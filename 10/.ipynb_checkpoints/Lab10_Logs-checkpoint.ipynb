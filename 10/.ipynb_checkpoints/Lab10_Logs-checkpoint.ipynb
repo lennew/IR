{
 "cells": [
  {
   "cell_type": "code",
   "execution_count": 1,
   "metadata": {},
   "outputs": [],
   "source": [
    "%matplotlib inline\n",
    "import numpy as np\n",
    "import matplotlib.pyplot as plt\n",
    "import datetime\n",
    "import dateparser\n",
    "import copy"
   ]
  },
  {
   "cell_type": "markdown",
   "metadata": {},
   "source": [
    "1) Log file is loaded"
   ]
  },
  {
   "cell_type": "code",
   "execution_count": 2,
   "metadata": {},
   "outputs": [
    {
     "name": "stdout",
     "output_type": "stream",
     "text": [
      "156.15.13.173 [01/Jan/2018:11:13:49 +0100] \"GET AddProduct.html HTTP/1.0\" 200 2356\n",
      "176.247.135.49 [01/Jan/2018:11:18:07 +0100] \"GET Shop.html HTTP/1.0\" 200 7466\n",
      "176.247.135.49 [01/Jan/2018:11:19:05 +0100] \"GET AddProduct.html HTTP/1.0\" 200 2356\n"
     ]
    }
   ],
   "source": [
    "file = open(\"log.txt\", \"r\") \n",
    "lines = file.readlines()\n",
    "for l in range(3): print(lines[l][:-1])"
   ]
  },
  {
   "cell_type": "markdown",
   "metadata": {},
   "source": [
    "2) Class \"Request\" parses and keeps data of a single requests. Complete the TODO, where a given \"line\" (string) should be parsed in order to dervie the ip of the host making the request, time of the request (in seconds), and target page (name)."
   ]
  },
  {
   "cell_type": "code",
   "execution_count": 3,
   "metadata": {},
   "outputs": [],
   "source": [
    "class Request:\n",
    "    def __init__(self, line):\n",
    "        # TODO DO PARSING HERE\n",
    "        fields = line.split(\" \")\n",
    "\n",
    "        self.ip = fields[0]\n",
    "        \n",
    "        timeFields = fields[1].split(\":\")\n",
    "        # convert hours + minutes + seconds -> total number of seconds\n",
    "        self.time = int(timeFields[1]) * 3600 + int(timeFields[2]) * 60 + int(timeFields[3]) \n",
    "        self.page = fields[4]\n",
    "        \n",
    "    def __repr__(self):\n",
    "        return self.ip + \"     \" +  str(datetime.timedelta(seconds=self.time)) + \" -> \" + self.page\n"
   ]
  },
  {
   "cell_type": "markdown",
   "metadata": {},
   "source": [
    "3) Each line of log.txt is parsed and the Request objects are added to the list"
   ]
  },
  {
   "cell_type": "code",
   "execution_count": 4,
   "metadata": {},
   "outputs": [
    {
     "name": "stdout",
     "output_type": "stream",
     "text": [
      "156.15.13.173     11:13:49 -> AddProduct.html\n",
      "176.247.135.49     11:18:07 -> Shop.html\n",
      "176.247.135.49     11:19:05 -> AddProduct.html\n",
      "176.247.135.49     11:29:05 -> Summary.html\n",
      "69.84.30.199     11:43:59 -> Shop.html\n",
      "69.84.30.199     11:45:16 -> AddProduct.html\n",
      "57.116.45.120     11:46:45 -> AddProduct.html\n",
      "69.84.30.199     11:50:36 -> Summary.html\n",
      "69.84.30.199     11:52:38 -> Payment.html\n",
      "26.19.183.202     11:53:11 -> AddProduct.html\n"
     ]
    }
   ],
   "source": [
    "reqs = [Request(line) for line in lines]\n",
    "for l in range(10): print(reqs[l]) "
   ]
  },
  {
   "cell_type": "markdown",
   "metadata": {},
   "source": [
    "# Exercise"
   ]
  },
  {
   "cell_type": "markdown",
   "metadata": {},
   "source": [
    "Your task is to analyze the log file. You should indentify the users and sessions. Then, compute the following: <br>\n",
    "3.1) the number of sessions (should be 1000 :) ), <br>\n",
    "3.2) the number of users, <br>\n",
    "3.3) the average number of sessions per one user <br>\n",
    "3.4) use the distribution plot to visualize the sessions' lengths (minutes);  <br>\n",
    "3.5) use the distribution plot to visualize the sessions' lengths (the number of requests) <br>\n",
    "3.6) use the distribution plot to visualize sessions' starting times (hours). <br>\n",
    "3.7) which web page is the most common entry point?; for each page plot the number of times it has been an entry page,  <br>\n",
    "3.8) which web page is the most common departure point?; for each page plot the number of times the user stopped a session while being on this page, <br>\n",
    "3.9) for each page plot the average time the user stayed on this page <br>\n",
    "3.10) print the fist 10 sessions (paths). <br>\n",
    "\n",
    "You may find the following classes helpful and data."
   ]
  },
  {
   "cell_type": "code",
   "execution_count": 5,
   "metadata": {},
   "outputs": [],
   "source": [
    "class Session:\n",
    "    def __init__(self):\n",
    "        self.startTime = 0\n",
    "        self.stopTime = 0\n",
    "        self.requests = []\n",
    "        \n",
    "    def __repr__(self):\n",
    "        #print(\"SESSION\")\n",
    "        #print(self.startTime)\n",
    "        #print(self.stopTime)\n",
    "        STR = \"\"\n",
    "        for r in self.requests:\n",
    "            #print(r)\n",
    "            STR += (\"  \" + r.page + \"    \" + str(datetime.timedelta(seconds=r.time)) + \"\\n\")\n",
    "        return STR\n",
    "    \n",
    "    def durationInMinutes(self):\n",
    "        return (self.stopTime - self.startTime) / 60\n",
    "    \n",
    "    def numberOfRequests(self):\n",
    "        return len(self.requests)\n",
    "    \n",
    "    def getStartingTimeHrs(self):\n",
    "        return self.startTime / 3600\n",
    "    \n",
    "    def getTimeSpentOnPage(self, pageNum):\n",
    "        return self.requests[pageNum + 1].time - self.requests[pageNum].time\n",
    "    \n",
    "class Computer:\n",
    "    def __init__(self, ip):\n",
    "        self.ip = ip\n",
    "        self.sessions = []\n",
    "    def __repr__(self):\n",
    "        return self.ip\n",
    "    def sumOfSessions(self):\n",
    "        return len(self.sessions)\n",
    "    \n",
    "\n",
    "#Useful functions\n",
    "def findUserByIp(ipAddr, users):\n",
    "    for usr in users:\n",
    "        if ipAddr == usr.ip:\n",
    "            return usr\n",
    "    return Computer(ip = ipAddr)\n",
    "\n",
    "\n",
    "PAGES = [\"Shop.html\", \"AddProduct.html\", \"Summary.html\", \"Payment.html\",\"About.html\", \"Contact.html\"]\n",
    "\n",
    "LINKS = [[1, 4],\n",
    "         [2,4],\n",
    "         [3],\n",
    "         [],\n",
    "         [1,5],\n",
    "         []]"
   ]
  },
  {
   "cell_type": "code",
   "execution_count": 6,
   "metadata": {},
   "outputs": [],
   "source": [
    "reqsCopy = copy.copy(reqs)\n",
    "users = []\n",
    "\n",
    "while len(reqsCopy) != 0:\n",
    "    req = reqsCopy[0]\n",
    "    user = findUserByIp(req.ip, users)\n",
    "    if user not in users:\n",
    "        users.append(user)\n",
    "        \n",
    "    toRemoveList = []\n",
    "    \n",
    "    sess = Session()\n",
    "    sess.startTime = req.time\n",
    "    sess.endTime = req.time\n",
    "    for j in reqsCopy:\n",
    "        if (j.time - sess.endTime) / 60 > 30:\n",
    "            break\n",
    "        if j.ip == req.ip:\n",
    "            sess.stopTime = j.time\n",
    "            sess.requests.append(j)\n",
    "            toRemoveList.append(j)\n",
    "    \n",
    "    for elem in toRemoveList:\n",
    "        reqsCopy.remove(elem)\n",
    "    user.sessions.append(sess)"
   ]
  },
  {
   "cell_type": "code",
   "execution_count": 24,
   "metadata": {},
   "outputs": [],
   "source": [
    "#3.1\n",
    "numOfSessions = 0\n",
    "for user in users:\n",
    "    numOfSessions += user.sumOfSessions()\n",
    "\n",
    "#3.2\n",
    "numOfUsers = len(users)\n",
    "\n",
    "#3.3\n",
    "avgSessions = numOfSessions/numOfUsers\n",
    "\n",
    "#3.4-3.9\n",
    "session_lengths_minutes = []\n",
    "session_lengths_requests = []\n",
    "session_starts_hours = []\n",
    "session_entry_points = np.zeros(len(PAGES))\n",
    "session_departure_points = np.zeros(len(PAGES))\n",
    "page_visits = np.zeros(len(PAGES))\n",
    "page_time_spent = np.zeros(len(PAGES))\n",
    "\n",
    "for user in users:\n",
    "    for session in user.sessions:\n",
    "        session_lengths_minutes.append(session.durationInMinutes())\n",
    "        session_lengths_requests.append(session.numberOfRequests())\n",
    "        session_starts_hours.append(session.getStartingTimeHrs())\n",
    "        session_entry_points[PAGES.index(session.requests[0].page)] += 1\n",
    "        session_departure_points[PAGES.index(session.requests[-1].page)] += 1\n",
    "        for i in range(len(session.requests) - 1):\n",
    "            page_visits[PAGES.index(session.requests[i].page)] +=1\n",
    "            page_time_spent[PAGES.index(session.requests[i].page)] += session.getTimeSpentOnPage(i)\n",
    "\n",
    "pageAverage = []\n",
    "for t,v in zip(page_time_spent, page_visits):\n",
    "    if v != 0:\n",
    "        pageAverage.append(t / v)\n",
    "    else:\n",
    "        pageAverage.append(0)"
   ]
  },
  {
   "cell_type": "code",
   "execution_count": 23,
   "metadata": {},
   "outputs": [
    {
     "data": {
      "image/png": "[encoded data removed]",
      "text/plain": [
       "<Figure size 432x288 with 1 Axes>"
      ]
     },
     "metadata": {
      "needs_background": "light"
     },
     "output_type": "display_data"
    },
    {
     "data": {
      "image/png": "[encoded data removed]",
      "text/plain": [
       "<Figure size 432x288 with 1 Axes>"
      ]
     },
     "metadata": {
      "needs_background": "light"
     },
     "output_type": "display_data"
    },
    {
     "data": {
      "image/png": "[encoded data removed]",
      "text/plain": [
       "<Figure size 432x288 with 1 Axes>"
      ]
     },
     "metadata": {
      "needs_background": "light"
     },
     "output_type": "display_data"
    },
    {
     "data": {
      "image/png": "[encoded data removed]",
      "text/plain": [
       "<Figure size 432x288 with 1 Axes>"
      ]
     },
     "metadata": {
      "needs_background": "light"
     },
     "output_type": "display_data"
    },
    {
     "data": {
      "image/png": "[encoded data removed]",
      "text/plain": [
       "<Figure size 432x288 with 1 Axes>"
      ]
     },
     "metadata": {
      "needs_background": "light"
     },
     "output_type": "display_data"
    },
    {
     "data": {
      "image/png": "[encoded data removed]",
      "text/plain": [
       "<Figure size 432x288 with 1 Axes>"
      ]
     },
     "metadata": {
      "needs_background": "light"
     },
     "output_type": "display_data"
    }
   ],
   "source": [
    "#plot distribution\n",
    "#count, bins, ignored = plt.hist(session_lengths_minutes, 50, alpha=0.5, normed=True)\n",
    "#plt.plot()\n",
    "\n",
    "x_axis = np.arange(numOfSessions)\n",
    "plt.bar(x_axis, session_lengths_minutes, align='center', alpha=0.5)\n",
    "plt.xlabel(\"Number of sessions\")\n",
    "plt.ylabel(\"Length of stay [m]\")\n",
    "plt.show()\n",
    "\n",
    "plt.bar(x_axis, session_lengths_requests, align='center', alpha=0.5)\n",
    "plt.xlabel(\"Number of sessions\")\n",
    "plt.ylabel(\"Number of requests\")\n",
    "plt.show()\n",
    "\n",
    "plt.bar(x_axis, session_starts_hours, align='center', alpha=0.5)\n",
    "plt.xlabel(\"Number of sessions\")\n",
    "plt.ylabel(\"Starting hour\")\n",
    "plt.show()\n",
    "\n",
    "plt.bar(PAGES, session_entry_points, align='center', alpha=0.5)\n",
    "plt.xlabel(\"Number of sessions\")\n",
    "plt.ylabel(\"Number of times of being entry point\")\n",
    "plt.show()\n",
    "\n",
    "plt.bar(PAGES, session_departure_points, align='center', alpha=0.5)\n",
    "plt.xlabel(\"Number of sessions\")\n",
    "plt.ylabel(\"Number of times of being departure point\")\n",
    "plt.show()\n",
    "\n",
    "plt.bar(PAGES, page_average, align='center', alpha=0.5)\n",
    "plt.xlabel(\"Number of sessions\")\n",
    "plt.ylabel(\"Number of times of being departure point\")\n",
    "plt.show()"
   ]
  }
 ],
 "metadata": {
  "kernelspec": {
   "display_name": "Python 3",
   "language": "python",
   "name": "python3"
  },
  "language_info": {
   "codemirror_mode": {
    "name": "ipython",
    "version": 3
   },
   "file_extension": ".py",
   "mimetype": "text/x-python",
   "name": "python",
   "nbconvert_exporter": "python",
   "pygments_lexer": "ipython3",
   "version": "3.8.0"
  }
 },
 "nbformat": 4,
 "nbformat_minor": 2
}
